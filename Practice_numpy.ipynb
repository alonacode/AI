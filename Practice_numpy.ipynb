{
  "nbformat": 4,
  "nbformat_minor": 0,
  "metadata": {
    "colab": {
      "provenance": [],
      "include_colab_link": true
    },
    "kernelspec": {
      "name": "python3",
      "display_name": "Python 3"
    },
    "language_info": {
      "name": "python"
    }
  },
  "cells": [
    {
      "cell_type": "markdown",
      "metadata": {
        "id": "view-in-github",
        "colab_type": "text"
      },
      "source": [
        "<a href=\"https://colab.research.google.com/github/alonacode/AI/blob/main/Practice_numpy.ipynb\" target=\"_parent\"><img src=\"https://colab.research.google.com/assets/colab-badge.svg\" alt=\"Open In Colab\"/></a>"
      ]
    },
    {
      "cell_type": "markdown",
      "source": [
        "Імпортуйте модуль numpy"
      ],
      "metadata": {
        "id": "rIioSM27QJ8x"
      }
    },
    {
      "cell_type": "code",
      "execution_count": 9,
      "metadata": {
        "id": "rDtfBq8ANBhL"
      },
      "outputs": [],
      "source": [
        "import numpy as np\n"
      ]
    },
    {
      "cell_type": "markdown",
      "source": [
        "# Завдання 1\n",
        "Створіть масив з елементами від 1 до 12. Виведіть розмір та тип масиву"
      ],
      "metadata": {
        "id": "npT_FnlcNwke"
      }
    },
    {
      "cell_type": "code",
      "source": [
        "x = np.arange(1, 13)\n",
        "print(x, x.shape, x.dtype)"
      ],
      "metadata": {
        "id": "02EdQMKlOZHr",
        "colab": {
          "base_uri": "https://localhost:8080/"
        },
        "outputId": "ba860abc-ca98-481c-8b96-f91d06cf6eb2"
      },
      "execution_count": 17,
      "outputs": [
        {
          "output_type": "stream",
          "name": "stdout",
          "text": [
            "[ 1  2  3  4  5  6  7  8  9 10 11 12] (12,) int64\n"
          ]
        }
      ]
    },
    {
      "cell_type": "markdown",
      "source": [
        "# Завдання 2\n",
        "Зробіть на основі попереднього масиву матрицю з 4 стовчиками. Змініть тип даних матриці на float32. Виведіть транспоновану матрицю."
      ],
      "metadata": {
        "id": "HH8hOwVhNxWE"
      }
    },
    {
      "cell_type": "code",
      "source": [
        "new_x = x.reshape((3, 4))\n",
        "new_x = new_x.astype(np.float32)\n",
        "\n",
        "print(new_x.T)"
      ],
      "metadata": {
        "id": "4jYqwTycOYbN",
        "colab": {
          "base_uri": "https://localhost:8080/"
        },
        "outputId": "17176e40-f740-4421-ac8e-34611c37db56"
      },
      "execution_count": 19,
      "outputs": [
        {
          "output_type": "stream",
          "name": "stdout",
          "text": [
            "[[ 1.  5.  9.]\n",
            " [ 2.  6. 10.]\n",
            " [ 3.  7. 11.]\n",
            " [ 4.  8. 12.]]\n"
          ]
        }
      ]
    },
    {
      "cell_type": "markdown",
      "source": [
        "#Завдання 3\n",
        "Створіть матрицю 8х8 з 0 та 1 розміщеними в шаховому порядку"
      ],
      "metadata": {
        "id": "T35Vjkz1Nxez"
      }
    },
    {
      "cell_type": "code",
      "source": [
        "chess_board = np.zeros((8, 8), dtype=np.int8)\n",
        "\n",
        "chess_board[1::2, ::2] = 1\n",
        "chess_board[::2, 1::2] = 1\n",
        "\n",
        "print(chess_board)"
      ],
      "metadata": {
        "id": "mrbnfiPQPu_n",
        "colab": {
          "base_uri": "https://localhost:8080/"
        },
        "outputId": "4da332b4-966a-4f04-89a7-ea6556f4eaab"
      },
      "execution_count": 26,
      "outputs": [
        {
          "output_type": "stream",
          "name": "stdout",
          "text": [
            "[[0 1 0 1 0 1 0 1]\n",
            " [1 0 1 0 1 0 1 0]\n",
            " [0 1 0 1 0 1 0 1]\n",
            " [1 0 1 0 1 0 1 0]\n",
            " [0 1 0 1 0 1 0 1]\n",
            " [1 0 1 0 1 0 1 0]\n",
            " [0 1 0 1 0 1 0 1]\n",
            " [1 0 1 0 1 0 1 0]]\n"
          ]
        }
      ]
    },
    {
      "cell_type": "markdown",
      "source": [
        "# Завдання 4\n",
        "Створіть випадкову матрицю 4х3. Знайдіть суму елементів в стовпчиках\\рядках\\усій матриці"
      ],
      "metadata": {
        "id": "g87KAY1nNxoy"
      }
    },
    {
      "cell_type": "code",
      "source": [
        "x = np.random.random((4,3))\n",
        "print(x)\n",
        "print(\"All\",np.sum(x))\n",
        "print(\"Row:\", np.sum(x, axis=1))\n",
        "print(\"Column:\", np.sum(x, axis=0))"
      ],
      "metadata": {
        "id": "RGA3022VQIZV",
        "colab": {
          "base_uri": "https://localhost:8080/"
        },
        "outputId": "8a00d365-9512-44fe-c9d4-a458aaa1cad4"
      },
      "execution_count": 36,
      "outputs": [
        {
          "output_type": "stream",
          "name": "stdout",
          "text": [
            "[[0.68376935 0.09102731 0.19190479]\n",
            " [0.48107331 0.85850972 0.63431488]\n",
            " [0.20456855 0.31203576 0.02380707]\n",
            " [0.30154048 0.12779205 0.30988802]]\n",
            "All 4.220231294967168\n",
            "Row: [0.96670145 1.97389792 0.54041137 0.73922055]\n",
            "Column: [1.67095169 1.38936484 1.15991477]\n"
          ]
        }
      ]
    },
    {
      "cell_type": "markdown",
      "source": [
        "# Завдання 5\n",
        "У попередній матриці від кожного рядка відніміть максимальний елемент цього рядка"
      ],
      "metadata": {
        "id": "AGH0TVVBNxx9"
      }
    },
    {
      "cell_type": "code",
      "source": [
        "max_row = x.max(axis=1, keepdims=True)\n",
        "\n",
        "new_x = x - max_row\n",
        "\n",
        "new_x"
      ],
      "metadata": {
        "id": "TVYjbsBDQHTU",
        "colab": {
          "base_uri": "https://localhost:8080/"
        },
        "outputId": "0cd4df2a-e934-45fc-d707-0dcbe72ae0e3"
      },
      "execution_count": 37,
      "outputs": [
        {
          "output_type": "execute_result",
          "data": {
            "text/plain": [
              "array([[ 0.        , -0.59274203, -0.49186456],\n",
              "       [-0.37743641,  0.        , -0.22419484],\n",
              "       [-0.10746721,  0.        , -0.28822868],\n",
              "       [-0.00834754, -0.18209597,  0.        ]])"
            ]
          },
          "metadata": {},
          "execution_count": 37
        }
      ]
    },
    {
      "cell_type": "markdown",
      "source": [
        "# Завдання 6\n",
        "Є дані про вагу контейнерів для перевезення на кораблі: дрібний - 5 т,  малий - 10 т, середній - 25 т, великий - 40 т. На кораблі розміщено 20 дрібних, 5 малих, 10 середніх та 4 великих контейнерів. Знайти масу вантажу."
      ],
      "metadata": {
        "id": "cH8WhnsjQsXi"
      }
    },
    {
      "cell_type": "code",
      "source": [
        "weight = np.array([5, 10, 25, 40])\n",
        "count = np.array([20, 5, 10, 4])\n",
        "\n",
        "total = weight @ count\n",
        "total"
      ],
      "metadata": {
        "id": "BYrqqe9WR6g7",
        "colab": {
          "base_uri": "https://localhost:8080/"
        },
        "outputId": "882eda89-0ef0-4bf8-a065-349f0e144710"
      },
      "execution_count": 38,
      "outputs": [
        {
          "output_type": "execute_result",
          "data": {
            "text/plain": [
              "560"
            ]
          },
          "metadata": {},
          "execution_count": 38
        }
      ]
    },
    {
      "cell_type": "markdown",
      "source": [
        "# Завдання 7\n",
        "Тепер у нас декілька кораблів. Напишіть код для обчислення вантажу на кожному кораблі."
      ],
      "metadata": {
        "id": "IhdiDOh3Qrmb"
      }
    },
    {
      "cell_type": "code",
      "source": [
        "weight = np.array([5, 10, 25, 40])\n",
        "count = np.array([\n",
        "                  [20, 5, 10, 4],\n",
        "                  [10, 5, 6,  7],\n",
        "                  [2, 3, 4, 7],\n",
        "                ])\n",
        "total = count @ weight\n",
        "total"
      ],
      "metadata": {
        "id": "gVUXPdFhSI95",
        "colab": {
          "base_uri": "https://localhost:8080/"
        },
        "outputId": "8294e1ff-eb9a-4104-cc7d-55bfda40f1fc"
      },
      "execution_count": 43,
      "outputs": [
        {
          "output_type": "execute_result",
          "data": {
            "text/plain": [
              "array([560, 530, 420])"
            ]
          },
          "metadata": {},
          "execution_count": 43
        }
      ]
    }
  ]
}