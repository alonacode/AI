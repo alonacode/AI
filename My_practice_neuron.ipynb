{
  "nbformat": 4,
  "nbformat_minor": 0,
  "metadata": {
    "colab": {
      "provenance": [],
      "include_colab_link": true
    },
    "kernelspec": {
      "name": "python3",
      "display_name": "Python 3"
    },
    "language_info": {
      "name": "python"
    }
  },
  "cells": [
    {
      "cell_type": "markdown",
      "metadata": {
        "id": "view-in-github",
        "colab_type": "text"
      },
      "source": [
        "<a href=\"https://colab.research.google.com/github/alonacode/AI/blob/main/My_practice_neuron.ipynb\" target=\"_parent\"><img src=\"https://colab.research.google.com/assets/colab-badge.svg\" alt=\"Open In Colab\"/></a>"
      ]
    },
    {
      "cell_type": "markdown",
      "source": [
        "Імпорт модулів"
      ],
      "metadata": {
        "id": "w1r0k1UheNCz"
      }
    },
    {
      "cell_type": "code",
      "execution_count": 51,
      "metadata": {
        "id": "ui6h0CH0-8-L"
      },
      "outputs": [],
      "source": [
        "import pandas as pd"
      ]
    },
    {
      "cell_type": "markdown",
      "source": [
        "Дані про морське вухо(молюск)\n",
        "\n",
        "<div>\n",
        "<img src=\"https://m.media-amazon.com/images/I/81-FC5TlLtL.jpg\" width=\"500\"/>\n",
        "</div>"
      ],
      "metadata": {
        "id": "Kpk2KycTeQEE"
      }
    },
    {
      "cell_type": "code",
      "source": [
        "df = pd.read_csv('https://raw.githubusercontent.com/HalyshAnton/IT-Step-Pyton-AI/main/module3/data/abalone.csv')\n",
        "df.drop(columns=['Type', 'WholeWeight', 'ShuckedWeight', 'VisceraWeight', 'ShellWeight'], inplace=True)"
      ],
      "metadata": {
        "id": "926S2f5pdnH6"
      },
      "execution_count": 52,
      "outputs": []
    },
    {
      "cell_type": "code",
      "source": [
        "df.head()"
      ],
      "metadata": {
        "colab": {
          "base_uri": "https://localhost:8080/",
          "height": 206
        },
        "id": "eG6_dawddqwd",
        "outputId": "509bdc5e-f051-4382-e78c-46d4bed6a9cc"
      },
      "execution_count": 53,
      "outputs": [
        {
          "output_type": "execute_result",
          "data": {
            "text/plain": [
              "   LongestShell  Diameter  Height  Rings\n",
              "0         0.455     0.365   0.095     15\n",
              "1         0.350     0.265   0.090      7\n",
              "2         0.530     0.420   0.135      9\n",
              "3         0.440     0.365   0.125     10\n",
              "4         0.330     0.255   0.080      7"
            ],
            "text/html": [
              "\n",
              "  <div id=\"df-9e36bd2e-6d75-4dea-824b-f8c45728e934\" class=\"colab-df-container\">\n",
              "    <div>\n",
              "<style scoped>\n",
              "    .dataframe tbody tr th:only-of-type {\n",
              "        vertical-align: middle;\n",
              "    }\n",
              "\n",
              "    .dataframe tbody tr th {\n",
              "        vertical-align: top;\n",
              "    }\n",
              "\n",
              "    .dataframe thead th {\n",
              "        text-align: right;\n",
              "    }\n",
              "</style>\n",
              "<table border=\"1\" class=\"dataframe\">\n",
              "  <thead>\n",
              "    <tr style=\"text-align: right;\">\n",
              "      <th></th>\n",
              "      <th>LongestShell</th>\n",
              "      <th>Diameter</th>\n",
              "      <th>Height</th>\n",
              "      <th>Rings</th>\n",
              "    </tr>\n",
              "  </thead>\n",
              "  <tbody>\n",
              "    <tr>\n",
              "      <th>0</th>\n",
              "      <td>0.455</td>\n",
              "      <td>0.365</td>\n",
              "      <td>0.095</td>\n",
              "      <td>15</td>\n",
              "    </tr>\n",
              "    <tr>\n",
              "      <th>1</th>\n",
              "      <td>0.350</td>\n",
              "      <td>0.265</td>\n",
              "      <td>0.090</td>\n",
              "      <td>7</td>\n",
              "    </tr>\n",
              "    <tr>\n",
              "      <th>2</th>\n",
              "      <td>0.530</td>\n",
              "      <td>0.420</td>\n",
              "      <td>0.135</td>\n",
              "      <td>9</td>\n",
              "    </tr>\n",
              "    <tr>\n",
              "      <th>3</th>\n",
              "      <td>0.440</td>\n",
              "      <td>0.365</td>\n",
              "      <td>0.125</td>\n",
              "      <td>10</td>\n",
              "    </tr>\n",
              "    <tr>\n",
              "      <th>4</th>\n",
              "      <td>0.330</td>\n",
              "      <td>0.255</td>\n",
              "      <td>0.080</td>\n",
              "      <td>7</td>\n",
              "    </tr>\n",
              "  </tbody>\n",
              "</table>\n",
              "</div>\n",
              "    <div class=\"colab-df-buttons\">\n",
              "\n",
              "  <div class=\"colab-df-container\">\n",
              "    <button class=\"colab-df-convert\" onclick=\"convertToInteractive('df-9e36bd2e-6d75-4dea-824b-f8c45728e934')\"\n",
              "            title=\"Convert this dataframe to an interactive table.\"\n",
              "            style=\"display:none;\">\n",
              "\n",
              "  <svg xmlns=\"http://www.w3.org/2000/svg\" height=\"24px\" viewBox=\"0 -960 960 960\">\n",
              "    <path d=\"M120-120v-720h720v720H120Zm60-500h600v-160H180v160Zm220 220h160v-160H400v160Zm0 220h160v-160H400v160ZM180-400h160v-160H180v160Zm440 0h160v-160H620v160ZM180-180h160v-160H180v160Zm440 0h160v-160H620v160Z\"/>\n",
              "  </svg>\n",
              "    </button>\n",
              "\n",
              "  <style>\n",
              "    .colab-df-container {\n",
              "      display:flex;\n",
              "      gap: 12px;\n",
              "    }\n",
              "\n",
              "    .colab-df-convert {\n",
              "      background-color: #E8F0FE;\n",
              "      border: none;\n",
              "      border-radius: 50%;\n",
              "      cursor: pointer;\n",
              "      display: none;\n",
              "      fill: #1967D2;\n",
              "      height: 32px;\n",
              "      padding: 0 0 0 0;\n",
              "      width: 32px;\n",
              "    }\n",
              "\n",
              "    .colab-df-convert:hover {\n",
              "      background-color: #E2EBFA;\n",
              "      box-shadow: 0px 1px 2px rgba(60, 64, 67, 0.3), 0px 1px 3px 1px rgba(60, 64, 67, 0.15);\n",
              "      fill: #174EA6;\n",
              "    }\n",
              "\n",
              "    .colab-df-buttons div {\n",
              "      margin-bottom: 4px;\n",
              "    }\n",
              "\n",
              "    [theme=dark] .colab-df-convert {\n",
              "      background-color: #3B4455;\n",
              "      fill: #D2E3FC;\n",
              "    }\n",
              "\n",
              "    [theme=dark] .colab-df-convert:hover {\n",
              "      background-color: #434B5C;\n",
              "      box-shadow: 0px 1px 3px 1px rgba(0, 0, 0, 0.15);\n",
              "      filter: drop-shadow(0px 1px 2px rgba(0, 0, 0, 0.3));\n",
              "      fill: #FFFFFF;\n",
              "    }\n",
              "  </style>\n",
              "\n",
              "    <script>\n",
              "      const buttonEl =\n",
              "        document.querySelector('#df-9e36bd2e-6d75-4dea-824b-f8c45728e934 button.colab-df-convert');\n",
              "      buttonEl.style.display =\n",
              "        google.colab.kernel.accessAllowed ? 'block' : 'none';\n",
              "\n",
              "      async function convertToInteractive(key) {\n",
              "        const element = document.querySelector('#df-9e36bd2e-6d75-4dea-824b-f8c45728e934');\n",
              "        const dataTable =\n",
              "          await google.colab.kernel.invokeFunction('convertToInteractive',\n",
              "                                                    [key], {});\n",
              "        if (!dataTable) return;\n",
              "\n",
              "        const docLinkHtml = 'Like what you see? Visit the ' +\n",
              "          '<a target=\"_blank\" href=https://colab.research.google.com/notebooks/data_table.ipynb>data table notebook</a>'\n",
              "          + ' to learn more about interactive tables.';\n",
              "        element.innerHTML = '';\n",
              "        dataTable['output_type'] = 'display_data';\n",
              "        await google.colab.output.renderOutput(dataTable, element);\n",
              "        const docLink = document.createElement('div');\n",
              "        docLink.innerHTML = docLinkHtml;\n",
              "        element.appendChild(docLink);\n",
              "      }\n",
              "    </script>\n",
              "  </div>\n",
              "\n",
              "\n",
              "<div id=\"df-7dafdffd-fac7-475d-902e-6fa48f6c02a1\">\n",
              "  <button class=\"colab-df-quickchart\" onclick=\"quickchart('df-7dafdffd-fac7-475d-902e-6fa48f6c02a1')\"\n",
              "            title=\"Suggest charts\"\n",
              "            style=\"display:none;\">\n",
              "\n",
              "<svg xmlns=\"http://www.w3.org/2000/svg\" height=\"24px\"viewBox=\"0 0 24 24\"\n",
              "     width=\"24px\">\n",
              "    <g>\n",
              "        <path d=\"M19 3H5c-1.1 0-2 .9-2 2v14c0 1.1.9 2 2 2h14c1.1 0 2-.9 2-2V5c0-1.1-.9-2-2-2zM9 17H7v-7h2v7zm4 0h-2V7h2v10zm4 0h-2v-4h2v4z\"/>\n",
              "    </g>\n",
              "</svg>\n",
              "  </button>\n",
              "\n",
              "<style>\n",
              "  .colab-df-quickchart {\n",
              "      --bg-color: #E8F0FE;\n",
              "      --fill-color: #1967D2;\n",
              "      --hover-bg-color: #E2EBFA;\n",
              "      --hover-fill-color: #174EA6;\n",
              "      --disabled-fill-color: #AAA;\n",
              "      --disabled-bg-color: #DDD;\n",
              "  }\n",
              "\n",
              "  [theme=dark] .colab-df-quickchart {\n",
              "      --bg-color: #3B4455;\n",
              "      --fill-color: #D2E3FC;\n",
              "      --hover-bg-color: #434B5C;\n",
              "      --hover-fill-color: #FFFFFF;\n",
              "      --disabled-bg-color: #3B4455;\n",
              "      --disabled-fill-color: #666;\n",
              "  }\n",
              "\n",
              "  .colab-df-quickchart {\n",
              "    background-color: var(--bg-color);\n",
              "    border: none;\n",
              "    border-radius: 50%;\n",
              "    cursor: pointer;\n",
              "    display: none;\n",
              "    fill: var(--fill-color);\n",
              "    height: 32px;\n",
              "    padding: 0;\n",
              "    width: 32px;\n",
              "  }\n",
              "\n",
              "  .colab-df-quickchart:hover {\n",
              "    background-color: var(--hover-bg-color);\n",
              "    box-shadow: 0 1px 2px rgba(60, 64, 67, 0.3), 0 1px 3px 1px rgba(60, 64, 67, 0.15);\n",
              "    fill: var(--button-hover-fill-color);\n",
              "  }\n",
              "\n",
              "  .colab-df-quickchart-complete:disabled,\n",
              "  .colab-df-quickchart-complete:disabled:hover {\n",
              "    background-color: var(--disabled-bg-color);\n",
              "    fill: var(--disabled-fill-color);\n",
              "    box-shadow: none;\n",
              "  }\n",
              "\n",
              "  .colab-df-spinner {\n",
              "    border: 2px solid var(--fill-color);\n",
              "    border-color: transparent;\n",
              "    border-bottom-color: var(--fill-color);\n",
              "    animation:\n",
              "      spin 1s steps(1) infinite;\n",
              "  }\n",
              "\n",
              "  @keyframes spin {\n",
              "    0% {\n",
              "      border-color: transparent;\n",
              "      border-bottom-color: var(--fill-color);\n",
              "      border-left-color: var(--fill-color);\n",
              "    }\n",
              "    20% {\n",
              "      border-color: transparent;\n",
              "      border-left-color: var(--fill-color);\n",
              "      border-top-color: var(--fill-color);\n",
              "    }\n",
              "    30% {\n",
              "      border-color: transparent;\n",
              "      border-left-color: var(--fill-color);\n",
              "      border-top-color: var(--fill-color);\n",
              "      border-right-color: var(--fill-color);\n",
              "    }\n",
              "    40% {\n",
              "      border-color: transparent;\n",
              "      border-right-color: var(--fill-color);\n",
              "      border-top-color: var(--fill-color);\n",
              "    }\n",
              "    60% {\n",
              "      border-color: transparent;\n",
              "      border-right-color: var(--fill-color);\n",
              "    }\n",
              "    80% {\n",
              "      border-color: transparent;\n",
              "      border-right-color: var(--fill-color);\n",
              "      border-bottom-color: var(--fill-color);\n",
              "    }\n",
              "    90% {\n",
              "      border-color: transparent;\n",
              "      border-bottom-color: var(--fill-color);\n",
              "    }\n",
              "  }\n",
              "</style>\n",
              "\n",
              "  <script>\n",
              "    async function quickchart(key) {\n",
              "      const quickchartButtonEl =\n",
              "        document.querySelector('#' + key + ' button');\n",
              "      quickchartButtonEl.disabled = true;  // To prevent multiple clicks.\n",
              "      quickchartButtonEl.classList.add('colab-df-spinner');\n",
              "      try {\n",
              "        const charts = await google.colab.kernel.invokeFunction(\n",
              "            'suggestCharts', [key], {});\n",
              "      } catch (error) {\n",
              "        console.error('Error during call to suggestCharts:', error);\n",
              "      }\n",
              "      quickchartButtonEl.classList.remove('colab-df-spinner');\n",
              "      quickchartButtonEl.classList.add('colab-df-quickchart-complete');\n",
              "    }\n",
              "    (() => {\n",
              "      let quickchartButtonEl =\n",
              "        document.querySelector('#df-7dafdffd-fac7-475d-902e-6fa48f6c02a1 button');\n",
              "      quickchartButtonEl.style.display =\n",
              "        google.colab.kernel.accessAllowed ? 'block' : 'none';\n",
              "    })();\n",
              "  </script>\n",
              "</div>\n",
              "    </div>\n",
              "  </div>\n"
            ],
            "application/vnd.google.colaboratory.intrinsic+json": {
              "type": "dataframe",
              "variable_name": "df",
              "summary": "{\n  \"name\": \"df\",\n  \"rows\": 4177,\n  \"fields\": [\n    {\n      \"column\": \"LongestShell\",\n      \"properties\": {\n        \"dtype\": \"number\",\n        \"std\": 0.12009291256479998,\n        \"min\": 0.075,\n        \"max\": 0.815,\n        \"num_unique_values\": 134,\n        \"samples\": [\n          0.815,\n          0.65,\n          0.29\n        ],\n        \"semantic_type\": \"\",\n        \"description\": \"\"\n      }\n    },\n    {\n      \"column\": \"Diameter\",\n      \"properties\": {\n        \"dtype\": \"number\",\n        \"std\": 0.09923986613365918,\n        \"min\": 0.055,\n        \"max\": 0.65,\n        \"num_unique_values\": 111,\n        \"samples\": [\n          0.09,\n          0.35,\n          0.3\n        ],\n        \"semantic_type\": \"\",\n        \"description\": \"\"\n      }\n    },\n    {\n      \"column\": \"Height\",\n      \"properties\": {\n        \"dtype\": \"number\",\n        \"std\": 0.04182705660725703,\n        \"min\": 0.0,\n        \"max\": 1.13,\n        \"num_unique_values\": 51,\n        \"samples\": [\n          0.235,\n          0.035,\n          0.015\n        ],\n        \"semantic_type\": \"\",\n        \"description\": \"\"\n      }\n    },\n    {\n      \"column\": \"Rings\",\n      \"properties\": {\n        \"dtype\": \"number\",\n        \"std\": 3,\n        \"min\": 1,\n        \"max\": 29,\n        \"num_unique_values\": 28,\n        \"samples\": [\n          11,\n          27,\n          14\n        ],\n        \"semantic_type\": \"\",\n        \"description\": \"\"\n      }\n    }\n  ]\n}"
            }
          },
          "metadata": {},
          "execution_count": 53
        }
      ]
    },
    {
      "cell_type": "markdown",
      "source": [
        "Потрібно на основі розмірів молюска спрогнозувати кількість кілець в мушлі `Rings`. Використовуйте процесор cpu"
      ],
      "metadata": {
        "id": "KAmkR_CFejgQ"
      }
    },
    {
      "cell_type": "markdown",
      "source": [
        "# Завдання 1\n",
        "Створіть клас Dataset"
      ],
      "metadata": {
        "id": "dBt0E5BJe6OK"
      }
    },
    {
      "cell_type": "code",
      "source": [
        "from torch.utils.data import Dataset\n",
        "import torch\n",
        "\n",
        "device = \"cuda\" if torch.cuda.is_available() else \"cpu\"\n",
        "torch.set_default_device(device)\n",
        "\n",
        "class MyDataset(Dataset):\n",
        "    def __init__(self, X, y):\n",
        "      self.X = torch.FloatTensor(X.values).to(device)\n",
        "      self.y = torch.FloatTensor(y.values).to(device)\n",
        "      self.y = self.y.reshape(-1, 1)\n",
        "\n",
        "    def __len__(self):\n",
        "      return len(self.X)\n",
        "\n",
        "    def __getitem__(self, idx):\n",
        "      return self.X[idx], self.y[idx]\n",
        "\n",
        "# Create dataset object\n",
        "X = df.drop(columns=['Rings'])\n",
        "y = df['Rings']\n",
        "\n",
        "dataset = MyDataset(X, y)"
      ],
      "metadata": {
        "id": "vFtu1Wd1drwJ"
      },
      "execution_count": 54,
      "outputs": []
    },
    {
      "cell_type": "markdown",
      "source": [
        "# Завдання 2\n",
        "Створіть DataLoader. Перевірте розміри даних в першому пакеті. Розмір пакетів оберіть самостійно"
      ],
      "metadata": {
        "id": "zQlB_6WzfB8n"
      }
    },
    {
      "cell_type": "code",
      "source": [
        "from torch.utils.data import DataLoader\n",
        "\n",
        "batch_size = 128\n",
        "dataloader = DataLoader(dataset,  # датасет з даними\n",
        "                        batch_size=batch_size,  # кількість даних в одному пакеті\n",
        "                        shuffle=True,  # чи треба перемішувати дані\n",
        "                        generator=torch.Generator(device=device))"
      ],
      "metadata": {
        "id": "-6-po4H4fZQy"
      },
      "execution_count": 55,
      "outputs": []
    },
    {
      "cell_type": "code",
      "source": [
        "X_batch, y_batch = next(iter(dataloader))"
      ],
      "metadata": {
        "id": "JJCVRhOCbpKE"
      },
      "execution_count": 56,
      "outputs": []
    },
    {
      "cell_type": "code",
      "source": [
        "X_batch.shape"
      ],
      "metadata": {
        "colab": {
          "base_uri": "https://localhost:8080/"
        },
        "id": "yQbUW-j9bz4w",
        "outputId": "0a8dd93f-1ab0-40df-924f-711694f62b3d"
      },
      "execution_count": 57,
      "outputs": [
        {
          "output_type": "execute_result",
          "data": {
            "text/plain": [
              "torch.Size([128, 3])"
            ]
          },
          "metadata": {},
          "execution_count": 57
        }
      ]
    },
    {
      "cell_type": "code",
      "source": [
        "y_batch.shape"
      ],
      "metadata": {
        "colab": {
          "base_uri": "https://localhost:8080/"
        },
        "id": "yIW6JDjib1tI",
        "outputId": "7c3407cf-f5b2-411b-e729-f01e20c0e06d"
      },
      "execution_count": 58,
      "outputs": [
        {
          "output_type": "execute_result",
          "data": {
            "text/plain": [
              "torch.Size([128, 1])"
            ]
          },
          "metadata": {},
          "execution_count": 58
        }
      ]
    },
    {
      "cell_type": "markdown",
      "source": [
        "# Завдання 3\n",
        "Створіть нейромережу:\n",
        "* Кількість шарів оберіть між 1-3\n",
        "* Виберіть різні функції активації: Relu, LeakyRelu, Swish\n",
        "* Кілкість нейронів у прихованих шарах повинна **не зростати**"
      ],
      "metadata": {
        "id": "2W93LiDxfZrx"
      }
    },
    {
      "cell_type": "code",
      "source": [
        "from torch import nn\n",
        "\n",
        "\n",
        "model = nn.Sequential(\n",
        "    nn.Linear(3, 4),\n",
        "    nn.ReLU(),\n",
        "    nn.Linear(4, 3),\n",
        "    nn.LeakyReLU(),\n",
        "    nn.Linear(3,1),\n",
        "\n",
        ")\n",
        "\n",
        "model"
      ],
      "metadata": {
        "id": "p9DHog7Xf7xE",
        "colab": {
          "base_uri": "https://localhost:8080/"
        },
        "outputId": "32307217-7f62-4441-8458-3c0c0c5a0162"
      },
      "execution_count": 59,
      "outputs": [
        {
          "output_type": "execute_result",
          "data": {
            "text/plain": [
              "Sequential(\n",
              "  (0): Linear(in_features=3, out_features=4, bias=True)\n",
              "  (1): ReLU()\n",
              "  (2): Linear(in_features=4, out_features=3, bias=True)\n",
              "  (3): LeakyReLU(negative_slope=0.01)\n",
              "  (4): Linear(in_features=3, out_features=1, bias=True)\n",
              ")"
            ]
          },
          "metadata": {},
          "execution_count": 59
        }
      ]
    },
    {
      "cell_type": "code",
      "source": [
        "X_batch"
      ],
      "metadata": {
        "colab": {
          "base_uri": "https://localhost:8080/"
        },
        "id": "4dB_LVcved9j",
        "outputId": "01ad94af-4f87-4026-a6fd-5e4ad68edb6f"
      },
      "execution_count": 60,
      "outputs": [
        {
          "output_type": "execute_result",
          "data": {
            "text/plain": [
              "tensor([[0.6150, 0.5250, 0.1550],\n",
              "        [0.3200, 0.2400, 0.0750],\n",
              "        [0.5000, 0.3650, 0.1300],\n",
              "        [0.5050, 0.4100, 0.1500],\n",
              "        [0.5650, 0.5050, 0.2100],\n",
              "        [0.6050, 0.4750, 0.1450],\n",
              "        [0.3800, 0.2350, 0.1000],\n",
              "        [0.5500, 0.4500, 0.1300],\n",
              "        [0.5100, 0.4000, 0.1400],\n",
              "        [0.5300, 0.4350, 0.1550],\n",
              "        [0.4600, 0.3500, 0.1100],\n",
              "        [0.6450, 0.5150, 0.2400],\n",
              "        [0.5300, 0.4200, 0.1300],\n",
              "        [0.6550, 0.5200, 0.1750],\n",
              "        [0.4450, 0.3450, 0.1200],\n",
              "        [0.4250, 0.3250, 0.1100],\n",
              "        [0.4700, 0.3650, 0.1200],\n",
              "        [0.5650, 0.4400, 0.1350],\n",
              "        [0.6250, 0.5250, 0.1950],\n",
              "        [0.5750, 0.4550, 0.1450],\n",
              "        [0.4150, 0.3150, 0.1200],\n",
              "        [0.6000, 0.4750, 0.1600],\n",
              "        [0.6050, 0.4700, 0.1600],\n",
              "        [0.3750, 0.3050, 0.0900],\n",
              "        [0.5700, 0.4700, 0.1550],\n",
              "        [0.6100, 0.4800, 0.1750],\n",
              "        [0.3700, 0.2750, 0.0800],\n",
              "        [0.6400, 0.4850, 0.1600],\n",
              "        [0.6500, 0.5250, 0.1900],\n",
              "        [0.3850, 0.2900, 0.0900],\n",
              "        [0.5000, 0.3900, 0.1200],\n",
              "        [0.6350, 0.4900, 0.1750],\n",
              "        [0.6350, 0.4850, 0.1800],\n",
              "        [0.6450, 0.5200, 0.1750],\n",
              "        [0.4900, 0.3750, 0.1500],\n",
              "        [0.4100, 0.3150, 0.1000],\n",
              "        [0.5250, 0.4200, 0.1550],\n",
              "        [0.5650, 0.4500, 0.1850],\n",
              "        [0.5550, 0.4550, 0.1600],\n",
              "        [0.3350, 0.2500, 0.0750],\n",
              "        [0.2950, 0.2100, 0.0800],\n",
              "        [0.4350, 0.3450, 0.1200],\n",
              "        [0.5700, 0.4450, 0.1500],\n",
              "        [0.3500, 0.2600, 0.0750],\n",
              "        [0.6500, 0.5450, 0.1600],\n",
              "        [0.4900, 0.3800, 0.1450],\n",
              "        [0.6300, 0.4800, 0.1650],\n",
              "        [0.6100, 0.4950, 0.1600],\n",
              "        [0.6300, 0.5050, 0.1700],\n",
              "        [0.5600, 0.4400, 0.1350],\n",
              "        [0.4150, 0.3250, 0.1400],\n",
              "        [0.5250, 0.3650, 0.1700],\n",
              "        [0.1800, 0.1350, 0.0800],\n",
              "        [0.5650, 0.4250, 0.1000],\n",
              "        [0.6050, 0.4750, 0.1750],\n",
              "        [0.4550, 0.3500, 0.1250],\n",
              "        [0.4600, 0.3750, 0.1200],\n",
              "        [0.5050, 0.4000, 0.1250],\n",
              "        [0.6050, 0.4900, 0.1650],\n",
              "        [0.5400, 0.4400, 0.1600],\n",
              "        [0.4950, 0.3800, 0.1300],\n",
              "        [0.6650, 0.5300, 0.1850],\n",
              "        [0.6000, 0.4900, 0.2100],\n",
              "        [0.6350, 0.4900, 0.1700],\n",
              "        [0.2900, 0.2150, 0.0650],\n",
              "        [0.3600, 0.2700, 0.0900],\n",
              "        [0.4900, 0.3850, 0.1150],\n",
              "        [0.5600, 0.4500, 0.1600],\n",
              "        [0.3900, 0.2850, 0.1000],\n",
              "        [0.5000, 0.3600, 0.1200],\n",
              "        [0.5650, 0.4500, 0.1750],\n",
              "        [0.4950, 0.3750, 0.1150],\n",
              "        [0.3400, 0.2550, 0.0950],\n",
              "        [0.6750, 0.5200, 0.1450],\n",
              "        [0.2500, 0.1850, 0.0650],\n",
              "        [0.5200, 0.3950, 0.1350],\n",
              "        [0.4500, 0.3600, 0.1250],\n",
              "        [0.6150, 0.4800, 0.1600],\n",
              "        [0.5850, 0.4750, 0.1650],\n",
              "        [0.5900, 0.4850, 0.1200],\n",
              "        [0.5200, 0.4250, 0.1700],\n",
              "        [0.5500, 0.4300, 0.1400],\n",
              "        [0.5700, 0.4550, 0.1500],\n",
              "        [0.4750, 0.3650, 0.1050],\n",
              "        [0.4700, 0.3500, 0.1150],\n",
              "        [0.7100, 0.5400, 0.2050],\n",
              "        [0.5600, 0.4300, 0.1450],\n",
              "        [0.5350, 0.4550, 0.1400],\n",
              "        [0.5150, 0.3950, 0.1200],\n",
              "        [0.6200, 0.5100, 0.1750],\n",
              "        [0.4050, 0.2900, 0.0900],\n",
              "        [0.6150, 0.4900, 0.1550],\n",
              "        [0.6700, 0.4850, 0.1750],\n",
              "        [0.6050, 0.4850, 0.1500],\n",
              "        [0.5450, 0.4350, 0.1650],\n",
              "        [0.4450, 0.3350, 0.1000],\n",
              "        [0.3800, 0.3250, 0.1100],\n",
              "        [0.6150, 0.4700, 0.1550],\n",
              "        [0.5350, 0.4450, 0.1250],\n",
              "        [0.6850, 0.5500, 0.1900],\n",
              "        [0.5500, 0.4000, 0.1350],\n",
              "        [0.6000, 0.4800, 0.1700],\n",
              "        [0.6800, 0.5450, 0.1850],\n",
              "        [0.6500, 0.5250, 0.1850],\n",
              "        [0.4250, 0.3450, 0.1100],\n",
              "        [0.3550, 0.2650, 0.0850],\n",
              "        [0.6100, 0.4800, 0.1700],\n",
              "        [0.6000, 0.4750, 0.1500],\n",
              "        [0.6300, 0.5150, 0.1750],\n",
              "        [0.5550, 0.4400, 0.1450],\n",
              "        [0.4800, 0.3750, 0.1150],\n",
              "        [0.5700, 0.4600, 0.1400],\n",
              "        [0.4700, 0.3700, 0.1200],\n",
              "        [0.1600, 0.1100, 0.0250],\n",
              "        [0.4600, 0.3500, 0.1050],\n",
              "        [0.6050, 0.4950, 0.1450],\n",
              "        [0.2950, 0.2150, 0.0750],\n",
              "        [0.5900, 0.4650, 0.1950],\n",
              "        [0.6350, 0.5000, 0.1800],\n",
              "        [0.5250, 0.4000, 0.1150],\n",
              "        [0.5500, 0.4300, 0.1600],\n",
              "        [0.3750, 0.2600, 0.0800],\n",
              "        [0.4150, 0.3150, 0.1000],\n",
              "        [0.5300, 0.4050, 0.1300],\n",
              "        [0.4750, 0.3750, 0.1250],\n",
              "        [0.5000, 0.3850, 0.1350],\n",
              "        [0.4850, 0.3700, 0.1150],\n",
              "        [0.3750, 0.2800, 0.0850]])"
            ]
          },
          "metadata": {},
          "execution_count": 60
        }
      ]
    },
    {
      "cell_type": "markdown",
      "source": [
        "# Завдання 4\n",
        "Визначте функцію втрат та оптимізатор"
      ],
      "metadata": {
        "id": "VmNUVkkUf8gB"
      }
    },
    {
      "cell_type": "code",
      "source": [
        "loss_fn = nn.MSELoss()\n",
        "optimizer = torch.optim.SGD(model.parameters(), lr=0.001)"
      ],
      "metadata": {
        "id": "e1sw9oRBgDXR"
      },
      "execution_count": 61,
      "outputs": []
    },
    {
      "cell_type": "markdown",
      "source": [
        "# Завдання 5\n",
        "Натренуйте нейромережу. візміть невелику кількість епох"
      ],
      "metadata": {
        "id": "qTOFCl_egEFZ"
      }
    },
    {
      "cell_type": "code",
      "source": [
        "import numpy as np\n",
        "\n",
        "num_epochs = 20\n",
        "losses = []\n",
        "\n",
        "for epoch in range(num_epochs):\n",
        "  losses_ = []\n",
        "  for X_batch, y_batch in dataloader:\n",
        "        # пряме пошерення\n",
        "        y_pred = model(X_batch)\n",
        "        loss = loss_fn(y_pred, y_batch)\n",
        "        losses_.append(loss.item())\n",
        "\n",
        "        # Зворотнє поширення\n",
        "        loss.backward() # рахуємо градієнти\n",
        "        optimizer.step()\n",
        "        optimizer.zero_grad()\n",
        "\n",
        "  losses.append(np.mean(losses_))\n",
        "\n",
        "  if epoch % 1 == 0:\n",
        "          print(f'loss={losses[-1]}')\n"
      ],
      "metadata": {
        "id": "Nxo4p3IUgOx5",
        "colab": {
          "base_uri": "https://localhost:8080/"
        },
        "outputId": "e0eafc98-7092-4e00-c5d7-17bc72a51032"
      },
      "execution_count": 62,
      "outputs": [
        {
          "output_type": "stream",
          "name": "stdout",
          "text": [
            "loss=103.34577479506984\n",
            "loss=55.86628266536828\n",
            "loss=11.587024370829264\n",
            "loss=8.972129951823842\n",
            "loss=8.920409448219068\n",
            "loss=8.76834162798795\n",
            "loss=8.785743323239414\n",
            "loss=8.713045076890426\n",
            "loss=8.629779208790172\n",
            "loss=8.542402325254498\n",
            "loss=8.486789775617195\n",
            "loss=8.419427785006436\n",
            "loss=8.395421114834873\n",
            "loss=8.340890494259922\n",
            "loss=8.268209009459525\n",
            "loss=8.29513424093073\n",
            "loss=8.202631892579975\n",
            "loss=8.169310800956957\n",
            "loss=8.082313797690652\n",
            "loss=8.085615013584945\n"
          ]
        }
      ]
    },
    {
      "cell_type": "code",
      "source": [
        "import matplotlib.pyplot as plt\n",
        "\n",
        "plt.plot(losses)"
      ],
      "metadata": {
        "colab": {
          "base_uri": "https://localhost:8080/",
          "height": 448
        },
        "id": "o22Tp6t_e_ao",
        "outputId": "1d86d14d-f618-487e-9b95-f47dfbc9bd8e"
      },
      "execution_count": 64,
      "outputs": [
        {
          "output_type": "execute_result",
          "data": {
            "text/plain": [
              "[<matplotlib.lines.Line2D at 0x7a2fdc44b400>]"
            ]
          },
          "metadata": {},
          "execution_count": 64
        },
        {
          "output_type": "display_data",
          "data": {
            "text/plain": [
              "<Figure size 640x480 with 1 Axes>"
            ],
            "image/png": "[encoded data removed]"
          },
          "metadata": {}
        }
      ]
    },
    {
      "cell_type": "markdown",
      "source": [
        "# Завдання 6\n",
        "Збережіть нейромережу та зробіть прогноз"
      ],
      "metadata": {
        "id": "aoclw4XlgPhB"
      }
    },
    {
      "cell_type": "code",
      "source": [
        "torch.save(model, 'model.pt')"
      ],
      "metadata": {
        "id": "UzVFg-KjgYgy"
      },
      "execution_count": 67,
      "outputs": []
    },
    {
      "cell_type": "code",
      "source": [
        "\n",
        "load_model = torch.load('model.pt')"
      ],
      "metadata": {
        "colab": {
          "base_uri": "https://localhost:8080/"
        },
        "id": "kMfjk8U3fH7q",
        "outputId": "c74aaf35-db03-470a-f046-0fb148818802"
      },
      "execution_count": 66,
      "outputs": [
        {
          "output_type": "stream",
          "name": "stderr",
          "text": [
            "<ipython-input-66-2cff9b381423>:1: FutureWarning: You are using `torch.load` with `weights_only=False` (the current default value), which uses the default pickle module implicitly. It is possible to construct malicious pickle data which will execute arbitrary code during unpickling (See https://github.com/pytorch/pytorch/blob/main/SECURITY.md#untrusted-models for more details). In a future release, the default value for `weights_only` will be flipped to `True`. This limits the functions that could be executed during unpickling. Arbitrary objects will no longer be allowed to be loaded via this mode unless they are explicitly allowlisted by the user via `torch.serialization.add_safe_globals`. We recommend you start setting `weights_only=True` for any use case where you don't have full control of the loaded file. Please open an issue on GitHub for any issues related to this experimental feature.\n",
            "  load_model = torch.load('model.pt')\n"
          ]
        }
      ]
    },
    {
      "cell_type": "code",
      "source": [
        "load_model"
      ],
      "metadata": {
        "colab": {
          "base_uri": "https://localhost:8080/"
        },
        "id": "xUE7wdVdfO3a",
        "outputId": "fc8ce514-6744-4d71-b15d-6f322232f99f"
      },
      "execution_count": 68,
      "outputs": [
        {
          "output_type": "execute_result",
          "data": {
            "text/plain": [
              "Sequential(\n",
              "  (0): Linear(in_features=3, out_features=4, bias=True)\n",
              "  (1): ReLU()\n",
              "  (2): Linear(in_features=4, out_features=3, bias=True)\n",
              "  (3): LeakyReLU(negative_slope=0.01)\n",
              "  (4): Linear(in_features=3, out_features=1, bias=True)\n",
              ")"
            ]
          },
          "metadata": {},
          "execution_count": 68
        }
      ]
    },
    {
      "cell_type": "code",
      "source": [
        "X.iloc[:1]"
      ],
      "metadata": {
        "colab": {
          "base_uri": "https://localhost:8080/",
          "height": 81
        },
        "id": "wIwZd-hifTVW",
        "outputId": "b61a1c12-21f2-4801-b089-8c1a0d3ab8d6"
      },
      "execution_count": 69,
      "outputs": [
        {
          "output_type": "execute_result",
          "data": {
            "text/plain": [
              "   LongestShell  Diameter  Height\n",
              "0         0.455     0.365   0.095"
            ],
            "text/html": [
              "\n",
              "  <div id=\"df-0f6104cd-7e12-4e6a-b222-837f53f89dd5\" class=\"colab-df-container\">\n",
              "    <div>\n",
              "<style scoped>\n",
              "    .dataframe tbody tr th:only-of-type {\n",
              "        vertical-align: middle;\n",
              "    }\n",
              "\n",
              "    .dataframe tbody tr th {\n",
              "        vertical-align: top;\n",
              "    }\n",
              "\n",
              "    .dataframe thead th {\n",
              "        text-align: right;\n",
              "    }\n",
              "</style>\n",
              "<table border=\"1\" class=\"dataframe\">\n",
              "  <thead>\n",
              "    <tr style=\"text-align: right;\">\n",
              "      <th></th>\n",
              "      <th>LongestShell</th>\n",
              "      <th>Diameter</th>\n",
              "      <th>Height</th>\n",
              "    </tr>\n",
              "  </thead>\n",
              "  <tbody>\n",
              "    <tr>\n",
              "      <th>0</th>\n",
              "      <td>0.455</td>\n",
              "      <td>0.365</td>\n",
              "      <td>0.095</td>\n",
              "    </tr>\n",
              "  </tbody>\n",
              "</table>\n",
              "</div>\n",
              "    <div class=\"colab-df-buttons\">\n",
              "\n",
              "  <div class=\"colab-df-container\">\n",
              "    <button class=\"colab-df-convert\" onclick=\"convertToInteractive('df-0f6104cd-7e12-4e6a-b222-837f53f89dd5')\"\n",
              "            title=\"Convert this dataframe to an interactive table.\"\n",
              "            style=\"display:none;\">\n",
              "\n",
              "  <svg xmlns=\"http://www.w3.org/2000/svg\" height=\"24px\" viewBox=\"0 -960 960 960\">\n",
              "    <path d=\"M120-120v-720h720v720H120Zm60-500h600v-160H180v160Zm220 220h160v-160H400v160Zm0 220h160v-160H400v160ZM180-400h160v-160H180v160Zm440 0h160v-160H620v160ZM180-180h160v-160H180v160Zm440 0h160v-160H620v160Z\"/>\n",
              "  </svg>\n",
              "    </button>\n",
              "\n",
              "  <style>\n",
              "    .colab-df-container {\n",
              "      display:flex;\n",
              "      gap: 12px;\n",
              "    }\n",
              "\n",
              "    .colab-df-convert {\n",
              "      background-color: #E8F0FE;\n",
              "      border: none;\n",
              "      border-radius: 50%;\n",
              "      cursor: pointer;\n",
              "      display: none;\n",
              "      fill: #1967D2;\n",
              "      height: 32px;\n",
              "      padding: 0 0 0 0;\n",
              "      width: 32px;\n",
              "    }\n",
              "\n",
              "    .colab-df-convert:hover {\n",
              "      background-color: #E2EBFA;\n",
              "      box-shadow: 0px 1px 2px rgba(60, 64, 67, 0.3), 0px 1px 3px 1px rgba(60, 64, 67, 0.15);\n",
              "      fill: #174EA6;\n",
              "    }\n",
              "\n",
              "    .colab-df-buttons div {\n",
              "      margin-bottom: 4px;\n",
              "    }\n",
              "\n",
              "    [theme=dark] .colab-df-convert {\n",
              "      background-color: #3B4455;\n",
              "      fill: #D2E3FC;\n",
              "    }\n",
              "\n",
              "    [theme=dark] .colab-df-convert:hover {\n",
              "      background-color: #434B5C;\n",
              "      box-shadow: 0px 1px 3px 1px rgba(0, 0, 0, 0.15);\n",
              "      filter: drop-shadow(0px 1px 2px rgba(0, 0, 0, 0.3));\n",
              "      fill: #FFFFFF;\n",
              "    }\n",
              "  </style>\n",
              "\n",
              "    <script>\n",
              "      const buttonEl =\n",
              "        document.querySelector('#df-0f6104cd-7e12-4e6a-b222-837f53f89dd5 button.colab-df-convert');\n",
              "      buttonEl.style.display =\n",
              "        google.colab.kernel.accessAllowed ? 'block' : 'none';\n",
              "\n",
              "      async function convertToInteractive(key) {\n",
              "        const element = document.querySelector('#df-0f6104cd-7e12-4e6a-b222-837f53f89dd5');\n",
              "        const dataTable =\n",
              "          await google.colab.kernel.invokeFunction('convertToInteractive',\n",
              "                                                    [key], {});\n",
              "        if (!dataTable) return;\n",
              "\n",
              "        const docLinkHtml = 'Like what you see? Visit the ' +\n",
              "          '<a target=\"_blank\" href=https://colab.research.google.com/notebooks/data_table.ipynb>data table notebook</a>'\n",
              "          + ' to learn more about interactive tables.';\n",
              "        element.innerHTML = '';\n",
              "        dataTable['output_type'] = 'display_data';\n",
              "        await google.colab.output.renderOutput(dataTable, element);\n",
              "        const docLink = document.createElement('div');\n",
              "        docLink.innerHTML = docLinkHtml;\n",
              "        element.appendChild(docLink);\n",
              "      }\n",
              "    </script>\n",
              "  </div>\n",
              "\n",
              "    </div>\n",
              "  </div>\n"
            ],
            "application/vnd.google.colaboratory.intrinsic+json": {
              "type": "dataframe",
              "summary": "{\n  \"name\": \"X\",\n  \"rows\": 1,\n  \"fields\": [\n    {\n      \"column\": \"LongestShell\",\n      \"properties\": {\n        \"dtype\": \"number\",\n        \"std\": null,\n        \"min\": 0.455,\n        \"max\": 0.455,\n        \"num_unique_values\": 1,\n        \"samples\": [\n          0.455\n        ],\n        \"semantic_type\": \"\",\n        \"description\": \"\"\n      }\n    },\n    {\n      \"column\": \"Diameter\",\n      \"properties\": {\n        \"dtype\": \"number\",\n        \"std\": null,\n        \"min\": 0.365,\n        \"max\": 0.365,\n        \"num_unique_values\": 1,\n        \"samples\": [\n          0.365\n        ],\n        \"semantic_type\": \"\",\n        \"description\": \"\"\n      }\n    },\n    {\n      \"column\": \"Height\",\n      \"properties\": {\n        \"dtype\": \"number\",\n        \"std\": null,\n        \"min\": 0.095,\n        \"max\": 0.095,\n        \"num_unique_values\": 1,\n        \"samples\": [\n          0.095\n        ],\n        \"semantic_type\": \"\",\n        \"description\": \"\"\n      }\n    }\n  ]\n}"
            }
          },
          "metadata": {},
          "execution_count": 69
        }
      ]
    },
    {
      "cell_type": "code",
      "source": [
        "X_data = torch.FloatTensor(X.iloc[:1].values)\n",
        "X_data = X_data.to(device)\n",
        "\n",
        "print(X_data)\n",
        "print(X_data.shape)"
      ],
      "metadata": {
        "colab": {
          "base_uri": "https://localhost:8080/"
        },
        "id": "lGJfXSZyfX0l",
        "outputId": "43a58c64-a857-41fb-fb8d-ce25f22832c3"
      },
      "execution_count": 70,
      "outputs": [
        {
          "output_type": "stream",
          "name": "stdout",
          "text": [
            "tensor([[0.4550, 0.3650, 0.0950]])\n",
            "torch.Size([1, 3])\n"
          ]
        }
      ]
    },
    {
      "cell_type": "code",
      "source": [
        "load_model(X_data) # порахує грабієнти"
      ],
      "metadata": {
        "colab": {
          "base_uri": "https://localhost:8080/"
        },
        "id": "4rlO_FpQfck_",
        "outputId": "6da0d03c-3455-44ed-cf3a-25b410601e2c"
      },
      "execution_count": 71,
      "outputs": [
        {
          "output_type": "execute_result",
          "data": {
            "text/plain": [
              "tensor([[9.5056]], grad_fn=<AddmmBackward0>)"
            ]
          },
          "metadata": {},
          "execution_count": 71
        }
      ]
    },
    {
      "cell_type": "code",
      "source": [
        "with torch.no_grad(): # без градієнтів\n",
        "  print(load_model(X_data))"
      ],
      "metadata": {
        "colab": {
          "base_uri": "https://localhost:8080/"
        },
        "id": "GdAIxtcsfgzE",
        "outputId": "742f2db8-3b0e-41a7-f1a0-b8232c6e419a"
      },
      "execution_count": 72,
      "outputs": [
        {
          "output_type": "stream",
          "name": "stdout",
          "text": [
            "tensor([[9.5056]])\n"
          ]
        }
      ]
    }
  ]
}