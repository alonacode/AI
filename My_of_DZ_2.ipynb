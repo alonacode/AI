{
  "nbformat": 4,
  "nbformat_minor": 0,
  "metadata": {
    "colab": {
      "provenance": [],
      "toc_visible": true,
      "include_colab_link": true
    },
    "kernelspec": {
      "name": "python3",
      "display_name": "Python 3"
    },
    "language_info": {
      "name": "python"
    }
  },
  "cells": [
    {
      "cell_type": "markdown",
      "metadata": {
        "id": "view-in-github",
        "colab_type": "text"
      },
      "source": [
        "<a href=\"https://colab.research.google.com/github/alonacode/AI/blob/main/My_of_DZ_2.ipynb\" target=\"_parent\"><img src=\"https://colab.research.google.com/assets/colab-badge.svg\" alt=\"Open In Colab\"/></a>"
      ]
    },
    {
      "cell_type": "markdown",
      "source": [
        "Імпортуйте модуль numpy"
      ],
      "metadata": {
        "id": "tk2sNnUDkXK9"
      }
    },
    {
      "cell_type": "code",
      "source": [
        "import numpy as np"
      ],
      "metadata": {
        "id": "1QbCsQ62kUmZ"
      },
      "execution_count": 3,
      "outputs": []
    },
    {
      "cell_type": "markdown",
      "source": [
        "#Завдання 1\n",
        "\n",
        "Створіть масив з парними числами між 30 і 70"
      ],
      "metadata": {
        "id": "ZVC4Yb3JZFO1"
      }
    },
    {
      "cell_type": "code",
      "source": [
        "f = np.arange(30,71,2)\n",
        "f"
      ],
      "metadata": {
        "id": "aunm4Jm_hUkL",
        "colab": {
          "base_uri": "https://localhost:8080/"
        },
        "outputId": "591ff36d-5e8f-46f2-a54b-975607ccf830"
      },
      "execution_count": 5,
      "outputs": [
        {
          "output_type": "execute_result",
          "data": {
            "text/plain": [
              "array([30, 32, 34, 36, 38, 40, 42, 44, 46, 48, 50, 52, 54, 56, 58, 60, 62,\n",
              "       64, 66, 68, 70])"
            ]
          },
          "metadata": {},
          "execution_count": 5
        }
      ]
    },
    {
      "cell_type": "markdown",
      "source": [
        "#Завдання 2\n",
        "Створіть масив з 10 числами між 0(включно) та 1(не включно) див документацію"
      ],
      "metadata": {
        "id": "UDSLr3f0b31r"
      }
    },
    {
      "cell_type": "code",
      "source": [
        "numbers = np.linspace(0., 0.9, num=10)\n",
        "print(numbers)\n",
        "# або\n",
        "\n",
        "array = np.random.rand(10)\n",
        "\n",
        "print(array)\n",
        "\n"
      ],
      "metadata": {
        "id": "w7iNkGd_hUM-",
        "colab": {
          "base_uri": "https://localhost:8080/"
        },
        "outputId": "9a67587a-e998-4f6b-e922-d4f81e0c191c"
      },
      "execution_count": 13,
      "outputs": [
        {
          "output_type": "stream",
          "name": "stdout",
          "text": [
            "[0.  0.1 0.2 0.3 0.4 0.5 0.6 0.7 0.8 0.9]\n",
            "[0.91061369 0.23700675 0.34070982 0.23517119 0.761794   0.22963594\n",
            " 0.31537629 0.94757636 0.57024876 0.48563449]\n"
          ]
        }
      ]
    },
    {
      "cell_type": "markdown",
      "source": [
        "#Завдання 4\n",
        "Напишіть функцію яка приймає матрицю розміру nxn та повертає матрицю розміру (n+2) x (n+2), на краях якої розміщенні 0."
      ],
      "metadata": {
        "id": "rtWKmLWhYi_j"
      }
    },
    {
      "cell_type": "code",
      "source": [
        "matrix = np.array([\n",
        "    [1, 2],\n",
        "    [3, 4]\n",
        "])\n",
        "\n",
        "\n",
        "\n",
        "# Створюємо нову матрицю розміру (n+2) x (n+2), заповнену нулями\n",
        "padded_matrix = np.zeros((4, 4), dtype=matrix.dtype)\n",
        "\n",
        "# Вставляємо оригінальну матрицю в центр нової матриці\n",
        "padded_matrix[1:-1, 1:-1] = matrix\n",
        "\n",
        "print(padded_matrix)"
      ],
      "metadata": {
        "id": "mU7vjsnqhVfk",
        "colab": {
          "base_uri": "https://localhost:8080/"
        },
        "outputId": "501480bb-5204-4791-84dd-713572d999d1"
      },
      "execution_count": 19,
      "outputs": [
        {
          "output_type": "stream",
          "name": "stdout",
          "text": [
            "[[0 0 0 0]\n",
            " [0 1 2 0]\n",
            " [0 3 4 0]\n",
            " [0 0 0 0]]\n"
          ]
        }
      ]
    },
    {
      "cell_type": "markdown",
      "source": [
        "#Завдання 5\n",
        "У попередьньому масиві змініть тип даних. Виведіть тип даних до та після зміни"
      ],
      "metadata": {
        "id": "ok_hMAEJa9oh"
      }
    },
    {
      "cell_type": "code",
      "source": [
        "print(\"Тип даних до зміни:\", padded_matrix.dtype)\n",
        "\n",
        "padded_matrix_float = padded_matrix.astype(float)\n",
        "\n",
        "print(\"Тип даних після зміни:\", padded_matrix_float.dtype)\n",
        "\n",
        "print(\"Масив з новим типом даних:\")\n",
        "print(padded_matrix_float)"
      ],
      "metadata": {
        "id": "vYlj3r3ShV98",
        "colab": {
          "base_uri": "https://localhost:8080/"
        },
        "outputId": "8619c50e-57fd-4e28-c6b8-385eded09cfd"
      },
      "execution_count": 20,
      "outputs": [
        {
          "output_type": "stream",
          "name": "stdout",
          "text": [
            "Тип даних до зміни: int64\n",
            "Тип даних після зміни: float64\n",
            "Масив з новим типом даних:\n",
            "[[0. 0. 0. 0.]\n",
            " [0. 1. 2. 0.]\n",
            " [0. 3. 4. 0.]\n",
            " [0. 0. 0. 0.]]\n"
          ]
        }
      ]
    },
    {
      "cell_type": "markdown",
      "source": [
        "#Завдання 6\n",
        "У даному масиві замініть елементи, які дорівнюють\\більші\\менші за var на -1"
      ],
      "metadata": {
        "id": "aR7TWyqgZUDg"
      }
    },
    {
      "cell_type": "code",
      "source": [
        "x = np.array([1, 5, 3, 8, 6, 5, 7, 4])\n",
        "var = 5\n",
        "\n",
        "original_x = x.copy()\n",
        "mask_equal = (original_x == var)\n",
        "x[mask_equal] = -1\n",
        "print(x)\n",
        "\n",
        "x = original_x.copy()\n",
        "mask_less = (x < var)\n",
        "x[mask_less] = -1\n",
        "print(x)\n",
        "\n",
        "x = original_x.copy()\n",
        "mask_more = (x > var)\n",
        "x[mask_more] = -1\n",
        "print(x)\n",
        "\n",
        "x = original_x.copy()\n",
        "x[(x == var) | (x >= var) | (x <= var)] = -1\n",
        "print(\"Масив після заміни всіх трьох випадків:\")\n",
        "print(x)"
      ],
      "metadata": {
        "id": "oPzL69Fbg2Wq",
        "colab": {
          "base_uri": "https://localhost:8080/"
        },
        "outputId": "79c33d5c-6d2b-400b-9f4e-8b3150652aaa"
      },
      "execution_count": 37,
      "outputs": [
        {
          "output_type": "stream",
          "name": "stdout",
          "text": [
            "[ 1 -1  3  8  6 -1  7  4]\n",
            "[-1  5 -1  8  6  5  7 -1]\n",
            "[ 1  5  3 -1 -1  5 -1  4]\n",
            "Масив після заміни всіх трьох випадків:\n",
            "[-1 -1 -1 -1 -1 -1 -1 -1]\n"
          ]
        }
      ]
    },
    {
      "cell_type": "markdown",
      "source": [
        "#Завдання 7\n",
        "Замініть пропущені значення матриці(np.nan) на -1\n",
        "\n",
        "Дивись np.isnan"
      ],
      "metadata": {
        "id": "Ks3Rtc7kajMJ"
      }
    },
    {
      "cell_type": "code",
      "source": [
        "X = np.array([[1, 2, np.nan, 4],\n",
        "              [5, np.nan, np.nan, 4],\n",
        "              [np.nan, 10, 11, np.nan]])\n",
        "\n",
        "mask_nan = np.isnan(X)\n",
        "X[mask_nan] = -1\n",
        "\n",
        "print(\"Масив після заміни пропущених значень на -1:\")\n",
        "print(X)"
      ],
      "metadata": {
        "id": "Rr8CdINEg3Rj",
        "colab": {
          "base_uri": "https://localhost:8080/"
        },
        "outputId": "d802504d-4b39-40d9-f35d-3a014b9e2e37"
      },
      "execution_count": 39,
      "outputs": [
        {
          "output_type": "stream",
          "name": "stdout",
          "text": [
            "Масив після заміни пропущених значень на -1:\n",
            "[[ 1.  2. -1.  4.]\n",
            " [ 5. -1. -1.  4.]\n",
            " [-1. 10. 11. -1.]]\n"
          ]
        }
      ]
    },
    {
      "cell_type": "markdown",
      "source": [
        "#Завдання 8\n",
        "Створіть матрицю розміру 4х6 з випадковими числами. Змініть її розмір на 3х8"
      ],
      "metadata": {
        "id": "teYwjikMa0gs"
      }
    },
    {
      "cell_type": "code",
      "source": [
        "x = np.random.random((4,6))\n",
        "y = np.reshape(x, (3,8))\n",
        "print(y)"
      ],
      "metadata": {
        "id": "JhNvUJwxhXED",
        "colab": {
          "base_uri": "https://localhost:8080/"
        },
        "outputId": "1574c65f-5118-47fd-bcca-2228389019ef"
      },
      "execution_count": 41,
      "outputs": [
        {
          "output_type": "stream",
          "name": "stdout",
          "text": [
            "[[0.78093661 0.80692495 0.94121331 0.4756987  0.52178401 0.15573515\n",
            "  0.4294614  0.94740141]\n",
            " [0.18966987 0.68229572 0.02863346 0.3896562  0.60211318 0.27384583\n",
            "  0.2508646  0.26491664]\n",
            " [0.1513297  0.47218483 0.46317609 0.90415156 0.4949007  0.67633114\n",
            "  0.6364132  0.39755584]]\n"
          ]
        }
      ]
    },
    {
      "cell_type": "markdown",
      "source": [
        "#Завдання 9\n",
        "Створіть матрицю з одиниць розміром 3х4. Знайдіть середнє арифметичне(mean) кожного стовпчика"
      ],
      "metadata": {
        "id": "jVE8280acszi"
      }
    },
    {
      "cell_type": "code",
      "source": [
        "x = np.ones((3, 4))\n",
        "mean_per_column = np.mean(x, axis=0)\n",
        "mean_per_column"
      ],
      "metadata": {
        "id": "5QI6HPNHhXd4",
        "colab": {
          "base_uri": "https://localhost:8080/"
        },
        "outputId": "92c92f66-089b-4412-9f2c-242708ddcf07"
      },
      "execution_count": 45,
      "outputs": [
        {
          "output_type": "execute_result",
          "data": {
            "text/plain": [
              "array([1., 1., 1., 1.])"
            ]
          },
          "metadata": {},
          "execution_count": 45
        }
      ]
    },
    {
      "cell_type": "markdown",
      "source": [
        "#Завдання 10\n",
        "Створіть випадкову матрицю розміром 5х6. Округліть значення до одного знаку після коми(np.round). Розмістіть стовпчики так, щоб значення в першому рядку були відсортовані за зростанням"
      ],
      "metadata": {
        "id": "nK6LwLjfc9aC"
      }
    },
    {
      "cell_type": "code",
      "source": [
        "x = np.random.random((5,6))\n",
        "print(x)\n",
        "matrix_rounded = np.round(x, 1)\n",
        "\n",
        "print(\"Матриця після округлення:\")\n",
        "print(matrix_rounded)\n",
        "\n",
        "sorted_indices = np.argsort(matrix_rounded[0, :])\n",
        "print(\"Індекси :\")\n",
        "print(sorted_indices)\n",
        "\n",
        "sorted_matrix = matrix_rounded[:, sorted_indices]\n",
        "sorted_matrix"
      ],
      "metadata": {
        "id": "pERBNp12hX58",
        "colab": {
          "base_uri": "https://localhost:8080/"
        },
        "outputId": "1ff28a7d-b19d-48cc-c13d-6fc5d49c5705"
      },
      "execution_count": 53,
      "outputs": [
        {
          "output_type": "stream",
          "name": "stdout",
          "text": [
            "[[0.40726309 0.58478325 0.46997943 0.30838369 0.08180808 0.58256952]\n",
            " [0.68814273 0.28675161 0.50393454 0.77623166 0.70584827 0.3294029 ]\n",
            " [0.03678513 0.90976143 0.54365397 0.37831774 0.05206438 0.99995526]\n",
            " [0.23696832 0.61699761 0.94030639 0.12795527 0.30655736 0.93519408]\n",
            " [0.01444395 0.09904274 0.90795919 0.45856191 0.56858807 0.50623408]]\n",
            "Матриця після округлення:\n",
            "[[0.4 0.6 0.5 0.3 0.1 0.6]\n",
            " [0.7 0.3 0.5 0.8 0.7 0.3]\n",
            " [0.  0.9 0.5 0.4 0.1 1. ]\n",
            " [0.2 0.6 0.9 0.1 0.3 0.9]\n",
            " [0.  0.1 0.9 0.5 0.6 0.5]]\n",
            "Індекси :\n",
            "[4 3 0 2 1 5]\n"
          ]
        },
        {
          "output_type": "execute_result",
          "data": {
            "text/plain": [
              "array([[0.1, 0.3, 0.4, 0.5, 0.6, 0.6],\n",
              "       [0.7, 0.8, 0.7, 0.5, 0.3, 0.3],\n",
              "       [0.1, 0.4, 0. , 0.5, 0.9, 1. ],\n",
              "       [0.3, 0.1, 0.2, 0.9, 0.6, 0.9],\n",
              "       [0.6, 0.5, 0. , 0.9, 0.1, 0.5]])"
            ]
          },
          "metadata": {},
          "execution_count": 53
        }
      ]
    },
    {
      "cell_type": "markdown",
      "source": [
        "#Завдання 11\n",
        "В даній матриці знайдіть всі елементи зі значенням між 3 і 6\n",
        "\n",
        "Дивись документацію np.logical_and"
      ],
      "metadata": {
        "id": "faCqq4bxiXsg"
      }
    },
    {
      "cell_type": "code",
      "source": [
        "X = np.array([[1, 2, 3, 4, 5],\n",
        "              [6, 7, 8, 9, 10],\n",
        "              [9, 8, 7, 6, 5],\n",
        "              [4, 3, 2, 1, 0]])\n",
        "\n",
        "mask = np.logical_and(X >= 3, X <= 6)\n",
        "print(mask)\n",
        "\n",
        "filtered_values = X[mask]\n",
        "\n",
        "print(\"\\nЕлементи між 3 і 6:\")\n",
        "print(filtered_values)"
      ],
      "metadata": {
        "id": "01ZY_c-tilOF",
        "colab": {
          "base_uri": "https://localhost:8080/"
        },
        "outputId": "2ace9e7a-313c-4c8c-8d36-e1d9e3b82d84"
      },
      "execution_count": 57,
      "outputs": [
        {
          "output_type": "stream",
          "name": "stdout",
          "text": [
            "[[False False  True  True  True]\n",
            " [ True False False False False]\n",
            " [False False False  True  True]\n",
            " [ True  True False False False]]\n",
            "\n",
            "Елементи між 3 і 6:\n",
            "[3 4 5 6 6 5 4 3]\n"
          ]
        }
      ]
    },
    {
      "cell_type": "markdown",
      "source": [
        "#Завдання 12\n",
        "Створіть випадкову матрицю розміру 5х6. Нормалізуйте стовпчики: від кожного елемента ставпчика відніміть мінімальне значення та поділіть результат на різницю між максимальним та мінімальним елементом цього стовпчика.\n",
        "\n",
        "Після цього всі значення мають бути в межах [0, 1]"
      ],
      "metadata": {
        "id": "cCZSaa3DMKxb"
      }
    },
    {
      "cell_type": "code",
      "source": [
        "x = np.random.random((5,6))\n",
        "print(\"Створена матриця\", x)\n",
        "min_values = np.min(x, axis=0)\n",
        "print(\"MIN\",min_values)\n",
        "max_values = np.max(x, axis=0)\n",
        "print(\"MAX\",max_values)\n",
        "# Нормалізована матриця\n",
        "normalized_matrix = (x - min_values) / (max_values - min_values)\n",
        "\n",
        "print(\"Нормалізована матриця:\")\n",
        "print(normalized_matrix)"
      ],
      "metadata": {
        "id": "qnOYOAgOMqRi",
        "colab": {
          "base_uri": "https://localhost:8080/"
        },
        "outputId": "23ccd6a2-a05f-440b-9b0c-246e68c9de3c"
      },
      "execution_count": 67,
      "outputs": [
        {
          "output_type": "stream",
          "name": "stdout",
          "text": [
            "Створена матриця [[0.41035568 0.85896314 0.97879155 0.49471031 0.78866446 0.1969187 ]\n",
            " [0.37828518 0.987238   0.70935098 0.42187703 0.88927825 0.79321575]\n",
            " [0.92867645 0.98170428 0.64329116 0.91383378 0.07657178 0.8517977 ]\n",
            " [0.99608948 0.30740041 0.54094898 0.48294671 0.76112109 0.92175006]\n",
            " [0.33503508 0.62070626 0.10826271 0.49010207 0.23008423 0.64897332]]\n",
            "MIN [0.33503508 0.30740041 0.10826271 0.42187703 0.07657178 0.1969187 ]\n",
            "MAX [0.99608948 0.987238   0.97879155 0.91383378 0.88927825 0.92175006]\n",
            "Нормалізована матриця:\n",
            "[[0.1139401  0.81131543 1.         0.14804814 0.87619911 0.        ]\n",
            " [0.06542593 1.         0.69048634 0.         1.         0.82267005]\n",
            " [0.89802196 0.99186023 0.61460164 1.         0.         0.90349154]\n",
            " [1.         0.         0.49703841 0.12413628 0.84230819 1.        ]\n",
            " [0.         0.46085397 0.         0.13868096 0.18889041 0.62366869]]\n"
          ]
        }
      ]
    }
  ]
}