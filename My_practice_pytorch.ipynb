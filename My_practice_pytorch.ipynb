{
  "nbformat": 4,
  "nbformat_minor": 0,
  "metadata": {
    "colab": {
      "provenance": [],
      "gpuType": "T4",
      "include_colab_link": true
    },
    "kernelspec": {
      "name": "python3",
      "display_name": "Python 3"
    },
    "language_info": {
      "name": "python"
    },
    "accelerator": "GPU"
  },
  "cells": [
    {
      "cell_type": "markdown",
      "metadata": {
        "id": "view-in-github",
        "colab_type": "text"
      },
      "source": [
        "<a href=\"https://colab.research.google.com/github/alonacode/AI/blob/main/My_practice_pytorch.ipynb\" target=\"_parent\"><img src=\"https://colab.research.google.com/assets/colab-badge.svg\" alt=\"Open In Colab\"/></a>"
      ]
    },
    {
      "cell_type": "markdown",
      "source": [
        "Імпорт модулів"
      ],
      "metadata": {
        "id": "ZnHVsAJ_5Py3"
      }
    },
    {
      "cell_type": "code",
      "execution_count": 22,
      "metadata": {
        "id": "yJf_g69N5LP6"
      },
      "outputs": [],
      "source": [
        "import torch\n",
        "import numpy as np"
      ]
    },
    {
      "cell_type": "markdown",
      "source": [
        "# Завдання 1\n",
        "\n",
        "Перегляньте інформацію про доступні процесори, та виведіть про них інформацію"
      ],
      "metadata": {
        "id": "pRkcTmfh6jCX"
      }
    },
    {
      "cell_type": "code",
      "source": [
        "torch.cuda.is_available()"
      ],
      "metadata": {
        "id": "W5yEGTcV6zHy",
        "colab": {
          "base_uri": "https://localhost:8080/"
        },
        "outputId": "4951303a-04f5-4ae6-fe6c-4796fea55543"
      },
      "execution_count": 23,
      "outputs": [
        {
          "output_type": "execute_result",
          "data": {
            "text/plain": [
              "True"
            ]
          },
          "metadata": {},
          "execution_count": 23
        }
      ]
    },
    {
      "cell_type": "code",
      "source": [
        "tensor = torch.tensor([1, 2, 3])\n",
        "print(tensor.device)  # CPU"
      ],
      "metadata": {
        "colab": {
          "base_uri": "https://localhost:8080/"
        },
        "id": "SpjGrnpjIOAW",
        "outputId": "298295d2-c09c-4e34-fcad-c281742570e9"
      },
      "execution_count": 24,
      "outputs": [
        {
          "output_type": "stream",
          "name": "stdout",
          "text": [
            "cuda:0\n"
          ]
        }
      ]
    },
    {
      "cell_type": "markdown",
      "source": [
        "# Завдання 2\n",
        "Підключіть colab до процесора GPU, та знову виведіть інформацію про доступні процесори"
      ],
      "metadata": {
        "id": "xTLIVYQg6z5G"
      }
    },
    {
      "cell_type": "code",
      "source": [
        "device = torch.device('cuda' if torch.cuda.is_available() else 'cpu')\n",
        "\n",
        "# tensor = torch.tensor([1, 2, 3])\n",
        "tensor = tensor.to(device)\n",
        "\n",
        "tensor"
      ],
      "metadata": {
        "id": "iVPWDF2D8dAM",
        "colab": {
          "base_uri": "https://localhost:8080/"
        },
        "outputId": "a428a9f9-627a-4337-836c-cac4592ce924"
      },
      "execution_count": 25,
      "outputs": [
        {
          "output_type": "execute_result",
          "data": {
            "text/plain": [
              "tensor([1, 2, 3], device='cuda:0')"
            ]
          },
          "metadata": {},
          "execution_count": 25
        }
      ]
    },
    {
      "cell_type": "markdown",
      "source": [
        "# Завдання 3\n",
        "Створіть випадковий тензор розміру (2, 3). Виведіть інформацію про його:\n",
        "\n",
        "* розмір\n",
        "* тип даних\n",
        "* процесор\n",
        "* наявність градієнта"
      ],
      "metadata": {
        "id": "OkMil6fb7AiX"
      }
    },
    {
      "cell_type": "code",
      "source": [
        "tensor = torch.randn(2, 3)\n",
        "\n",
        "new = tensor.to(device)\n",
        "\n",
        "# Отримання необхідної інформації\n",
        "tensor_info = {\n",
        "    \"size\": tensor.size(),\n",
        "    \"dtype\": tensor.dtype,\n",
        "    \"device\": new,\n",
        "    \"requires_grad\": tensor.requires_grad\n",
        "}\n",
        "\n",
        "print(tensor_info)"
      ],
      "metadata": {
        "id": "ih3MeOto8yrO",
        "colab": {
          "base_uri": "https://localhost:8080/"
        },
        "outputId": "113d1f5c-7372-49ab-961e-02b2d7eba552"
      },
      "execution_count": 26,
      "outputs": [
        {
          "output_type": "stream",
          "name": "stdout",
          "text": [
            "{'size': torch.Size([2, 3]), 'dtype': torch.float32, 'device': tensor([[ 0.3679, -0.0099, -1.0052],\n",
            "        [-2.3592, -0.2802,  0.5162]], device='cuda:0'), 'requires_grad': False}\n"
          ]
        }
      ]
    },
    {
      "cell_type": "markdown",
      "source": [
        "# Завдання 4\n",
        "\n",
        "Створіть 2 тензора розміру 100. Використовуючи лише модуль `torch` обрахуйте середьню абсолютну похибку(mae) між ними. Виведіть результат як число"
      ],
      "metadata": {
        "id": "nNrrplv_9Vha"
      }
    },
    {
      "cell_type": "code",
      "source": [
        "tensor1 = torch.randn(100)\n",
        "tensor2 = torch.randn(100)\n",
        "\n",
        "\n",
        "mae = torch.mean(torch.abs(tensor1 - tensor2))\n",
        "print(mae.item())"
      ],
      "metadata": {
        "id": "HybhfrBT9wT5",
        "colab": {
          "base_uri": "https://localhost:8080/"
        },
        "outputId": "ae7f872c-2623-4f70-c392-e1f1be01de2f"
      },
      "execution_count": 27,
      "outputs": [
        {
          "output_type": "stream",
          "name": "stdout",
          "text": [
            "1.0207358598709106\n"
          ]
        }
      ]
    },
    {
      "cell_type": "markdown",
      "source": [
        "# Завдання 5\n",
        "\n",
        "Створіть 3 випадкових тензора з розмірами:\n",
        "* 32х28х28\n",
        "* 16х28х28\n",
        "* 64х28х28\n",
        "\n",
        "Об'єднайте їх по першій розмірності. Результат має мати розмір 112х28х28"
      ],
      "metadata": {
        "id": "JoU54G199w5-"
      }
    },
    {
      "cell_type": "code",
      "source": [
        "tensor1 = torch.randn(32, 28, 28)\n",
        "tensor2 = torch.randn(16, 28, 28)\n",
        "tensor3 = torch.randn(64, 28, 28)\n",
        "\n",
        "\n",
        "result = torch.cat((tensor1, tensor2, tensor3), dim=0)\n",
        "\n",
        "\n",
        "print(result.size())"
      ],
      "metadata": {
        "id": "Ar7NOowB-NBn",
        "colab": {
          "base_uri": "https://localhost:8080/"
        },
        "outputId": "17c4df0d-c0cf-42da-b09d-c7ea99573877"
      },
      "execution_count": 28,
      "outputs": [
        {
          "output_type": "stream",
          "name": "stdout",
          "text": [
            "torch.Size([112, 28, 28])\n"
          ]
        }
      ]
    },
    {
      "cell_type": "markdown",
      "source": [
        "# Завдання 6\n",
        "Застосуйте метод градієнтного спуску для функції"
      ],
      "metadata": {
        "id": "8v4erUf8-Tnn"
      }
    },
    {
      "cell_type": "code",
      "source": [
        "def f(x):\n",
        "  return x**2/3 + torch.sin(torch.pi*x)"
      ],
      "metadata": {
        "id": "c89FE7vc-aWy"
      },
      "execution_count": 29,
      "outputs": []
    },
    {
      "cell_type": "code",
      "source": [
        "from torch.optim import SGD\n",
        "\n",
        "# підкоючаємо процесор\n",
        "device = \"cuda\" if torch.cuda.is_available() else \"cpu\"\n",
        "torch.set_default_device(device)\n",
        "\n",
        "# вибираємо початкове значення\n",
        "x = torch.tensor(2.0, requires_grad=True)\n",
        "\n",
        "# швидкість навчання\n",
        "learning_rate = 1e-3\n",
        "\n",
        "# визначення алгоритму\n",
        "optimizer = SGD([x],  # список тензорів, до яких застосуємо алгоритм\n",
        "                lr=learning_rate,\n",
        "                momentum=0.9\n",
        "                )\n",
        "\n",
        "for t in range(200):\n",
        "    # обчислюємо функцію яку потрібно мінімізувати\n",
        "    loss = f(x)\n",
        "\n",
        "    # обчислюємо всі потрібні градієнти\n",
        "    loss.backward()\n",
        "\n",
        "    # вивід значення функції\n",
        "    if t % 20 == 0:\n",
        "      print(f'{loss.item() = }')\n",
        "\n",
        "    # градієнтний спуск\n",
        "    optimizer.step()\n",
        "    optimizer.zero_grad()\n"
      ],
      "metadata": {
        "colab": {
          "base_uri": "https://localhost:8080/"
        },
        "id": "ORsw55rhNlMm",
        "outputId": "c5f3c1c7-48ec-4b86-face-df37b7cb0274"
      },
      "execution_count": 30,
      "outputs": [
        {
          "output_type": "stream",
          "name": "stdout",
          "text": [
            "loss.item() = 1.3333334922790527\n",
            "loss.item() = -0.22061127424240112\n",
            "loss.item() = -0.26285481452941895\n",
            "loss.item() = -0.2976280450820923\n",
            "loss.item() = -0.29720568656921387\n",
            "loss.item() = -0.2977892756462097\n",
            "loss.item() = -0.2977856993675232\n",
            "loss.item() = -0.29779261350631714\n",
            "loss.item() = -0.29779285192489624\n",
            "loss.item() = -0.29779285192489624\n"
          ]
        }
      ]
    },
    {
      "cell_type": "code",
      "source": [
        "import matplotlib.pyplot as plt\n",
        "import torch\n",
        "import numpy as np\n",
        "\n",
        "xs = torch.linspace(-3, 4, 100)\n",
        "plt.plot(xs.cpu(), f(xs).cpu(), label='f(x)')\n",
        "plt.scatter(x.cpu().item(), f(x).cpu().item(), c='red', label='min')\n",
        "plt.legend()"
      ],
      "metadata": {
        "colab": {
          "base_uri": "https://localhost:8080/",
          "height": 448
        },
        "id": "tySe_oUbPetl",
        "outputId": "8ec067d9-65f8-4dd5-eb7f-2397a6934c27"
      },
      "execution_count": 31,
      "outputs": [
        {
          "output_type": "execute_result",
          "data": {
            "text/plain": [
              "<matplotlib.legend.Legend at 0x7f3cbfc54d60>"
            ]
          },
          "metadata": {},
          "execution_count": 31
        },
        {
          "output_type": "display_data",
          "data": {
            "text/plain": [
              "<Figure size 640x480 with 1 Axes>"
            ],
            "image/png": "[encoded data removed]"
          },
          "metadata": {}
        }
      ]
    },
    {
      "cell_type": "markdown",
      "source": [
        "# Завдання 7\n",
        "Застосуйте метод градієнтного спуску для функції. Мінімум функції рівний 0"
      ],
      "metadata": {
        "id": "UjHK74ES-iuO"
      }
    },
    {
      "cell_type": "code",
      "source": [
        "def f1(x, y):\n",
        "  # функція Швефеля\n",
        "  return  418.9829*2 - x*torch.sin(x.abs().sqrt()) - y*torch.sin(y.abs().sqrt())\n",
        "\n",
        "def f2(x, y):\n",
        "  # трьохгорбна функція\n",
        "  return 2*x**2  - 1.05*x**4 + 1/6*x**6 + x*y  + y**2\n",
        "\n",
        "def f3(x, y):\n",
        "  # функція птах\n",
        "  return 106.7645 + torch.sin(x)*torch.exp((1-torch.cos(y))**2) + \\\n",
        "  torch.cos(y)*torch.exp((1-torch.sin(x))**2) + \\\n",
        "  (x-y)**2"
      ],
      "metadata": {
        "id": "vRD515Ik_xM-"
      },
      "execution_count": 32,
      "outputs": []
    },
    {
      "cell_type": "code",
      "source": [
        "\n",
        "\n",
        "# Встановимо пристрій на GPU, якщо доступно, або на CPU\n",
        "device = torch.device(\"cuda\" if torch.cuda.is_available() else \"cpu\")\n"
      ],
      "metadata": {
        "id": "j2RaZh9E-oyK"
      },
      "execution_count": 33,
      "outputs": []
    },
    {
      "cell_type": "code",
      "source": [
        "def gradient_descent(f, lr=1e-3, iterations=200):\n",
        "    # Ініціалізуємо змінні x і y\n",
        "    x = torch.tensor(2.0, requires_grad=True, device=device)\n",
        "    y = torch.tensor(2.0, requires_grad=True, device=device)\n",
        "\n",
        "    # Визначення оптимізатора\n",
        "    optimizer = SGD([x, y], lr=lr)\n",
        "\n",
        "    # Цикл градієнтного спуску\n",
        "    for t in range(iterations):\n",
        "        # Обчислюємо значення функції\n",
        "        loss = f(x, y)\n",
        "\n",
        "        # Обчислюємо градієнти\n",
        "        loss.backward()\n",
        "\n",
        "        # Виводимо значення функції кожні 100 ітерацій\n",
        "        if t % 10 == 0:\n",
        "            print(f'Ітерація {t}, Значення функції: {loss.item()}')\n",
        "\n",
        "        # Оновлюємо параметри\n",
        "        optimizer.step()\n",
        "\n",
        "        # Очищуємо градієнти\n",
        "        optimizer.zero_grad()\n",
        "\n",
        "    # Повертаємо значення x та y як тензори\n",
        "    return x, y"
      ],
      "metadata": {
        "id": "_MjlIBz_UcbG"
      },
      "execution_count": 34,
      "outputs": []
    },
    {
      "cell_type": "code",
      "source": [
        "# Градієнтний спуск для функції f1 (Швефеля)\n",
        "print(\"Мінімізація функції Швефеля:\")\n",
        "gradient_descent(f1)\n",
        "\n",
        "# Градієнтний спуск для функції f2 (трьохгорбна функція)\n",
        "print(\"\\nМінімізація трьохгорбної функції:\")\n",
        "gradient_descent(f2)\n",
        "\n",
        "# Градієнтний спуск для функції f3 (функція птах)\n",
        "print(\"\\nМінімізація функції птах:\")\n",
        "gradient_descent(f3)"
      ],
      "metadata": {
        "colab": {
          "base_uri": "https://localhost:8080/"
        },
        "id": "kSNP6nBtUifU",
        "outputId": "1b4c84e4-2889-4696-9223-0a6647c377c2"
      },
      "execution_count": 35,
      "outputs": [
        {
          "output_type": "stream",
          "name": "stdout",
          "text": [
            "Мінімізація функції Швефеля:\n",
            "Ітерація 0, Значення функції: 834.0147705078125\n",
            "Ітерація 10, Значення функції: 833.99072265625\n",
            "Ітерація 20, Значення функції: 833.9666748046875\n",
            "Ітерація 30, Значення функції: 833.9427490234375\n",
            "Ітерація 40, Значення функції: 833.9189453125\n",
            "Ітерація 50, Значення функції: 833.8951416015625\n",
            "Ітерація 60, Значення функції: 833.87158203125\n",
            "Ітерація 70, Значення функції: 833.847900390625\n",
            "Ітерація 80, Значення функції: 833.824462890625\n",
            "Ітерація 90, Значення функції: 833.801025390625\n",
            "Ітерація 100, Значення функції: 833.7777099609375\n",
            "Ітерація 110, Значення функції: 833.7545166015625\n",
            "Ітерація 120, Значення функції: 833.7313232421875\n",
            "Ітерація 130, Значення функції: 833.708251953125\n",
            "Ітерація 140, Значення функції: 833.685302734375\n",
            "Ітерація 150, Значення функції: 833.662353515625\n",
            "Ітерація 160, Значення функції: 833.6396484375\n",
            "Ітерація 170, Значення функції: 833.616943359375\n",
            "Ітерація 180, Значення функції: 833.59423828125\n",
            "Ітерація 190, Значення функції: 833.57177734375\n",
            "\n",
            "Мінімізація трьохгорбної функції:\n",
            "Ітерація 0, Значення функції: 9.866667747497559\n",
            "Ітерація 10, Значення функції: 8.9895658493042\n",
            "Ітерація 20, Значення функції: 8.360575675964355\n",
            "Ітерація 30, Значення функції: 7.861054420471191\n",
            "Ітерація 40, Значення функції: 7.439462661743164\n",
            "Ітерація 50, Значення функції: 7.069958686828613\n",
            "Ітерація 60, Значення функції: 6.738137245178223\n",
            "Ітерація 70, Значення функції: 6.435293197631836\n",
            "Ітерація 80, Значення функції: 6.155791282653809\n",
            "Ітерація 90, Значення функції: 5.89578104019165\n",
            "Ітерація 100, Значення функції: 5.652504920959473\n",
            "Ітерація 110, Значення функції: 5.423901081085205\n",
            "Ітерація 120, Значення функції: 5.208375453948975\n",
            "Ітерація 130, Значення функції: 5.004656791687012\n",
            "Ітерація 140, Значення функції: 4.811704158782959\n",
            "Ітерація 150, Значення функції: 4.628644943237305\n",
            "Ітерація 160, Значення функції: 4.454737663269043\n",
            "Ітерація 170, Значення функції: 4.289335250854492\n",
            "Ітерація 180, Значення функції: 4.131870269775391\n",
            "Ітерація 190, Значення функції: 3.98183536529541\n",
            "\n",
            "Мінімізація функції птах:\n",
            "Ітерація 0, Значення функції: 113.10063171386719\n",
            "Ітерація 10, Значення функції: 111.25263214111328\n",
            "Ітерація 20, Значення функції: 110.42674255371094\n",
            "Ітерація 30, Значення функції: 109.9853515625\n",
            "Ітерація 40, Значення функції: 109.72308349609375\n",
            "Ітерація 50, Значення функції: 109.55602264404297\n",
            "Ітерація 60, Значення функції: 109.44422149658203\n",
            "Ітерація 70, Значення функції: 109.36656951904297\n",
            "Ітерація 80, Значення функції: 109.31099700927734\n",
            "Ітерація 90, Значення функції: 109.27023315429688\n",
            "Ітерація 100, Значення функції: 109.23965454101562\n",
            "Ітерація 110, Значення функції: 109.21625518798828\n",
            "Ітерація 120, Значення функції: 109.19799041748047\n",
            "Ітерація 130, Значення функції: 109.18345642089844\n",
            "Ітерація 140, Значення функції: 109.17166137695312\n",
            "Ітерація 150, Значення функції: 109.16191101074219\n",
            "Ітерація 160, Значення функції: 109.15367126464844\n",
            "Ітерація 170, Значення функції: 109.14656829833984\n",
            "Ітерація 180, Значення функції: 109.14032745361328\n",
            "Ітерація 190, Значення функції: 109.13475036621094\n"
          ]
        },
        {
          "output_type": "execute_result",
          "data": {
            "text/plain": [
              "(tensor(2.0572, device='cuda:0', requires_grad=True),\n",
              " tensor(1.4005, device='cuda:0', requires_grad=True))"
            ]
          },
          "metadata": {},
          "execution_count": 35
        }
      ]
    }
  ]
}